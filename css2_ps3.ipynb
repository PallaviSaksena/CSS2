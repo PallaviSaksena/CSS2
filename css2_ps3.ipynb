{
  "nbformat": 4,
  "nbformat_minor": 0,
  "metadata": {
    "colab": {
      "name": "Saksena_Pallavi_problem_set_3.ipynb",
      "provenance": [],
      "collapsed_sections": []
    },
    "kernelspec": {
      "name": "python3",
      "display_name": "Python 3"
    },
    "language_info": {
      "name": "python"
    }
  },
  "cells": [
    {
      "cell_type": "markdown",
      "metadata": {
        "id": "HYWQ1Qn10EtW"
      },
      "source": [
        "Block 1: Importing Libraries"
      ]
    },
    {
      "cell_type": "code",
      "metadata": {
        "id": "Vcj1N1fW0BwQ"
      },
      "source": [
        "import pandas as pd\n",
        "import numpy as np\n",
        "import matplotlib.pyplot as plt\n",
        "import seaborn as sns"
      ],
      "execution_count": 1,
      "outputs": []
    },
    {
      "cell_type": "markdown",
      "metadata": {
        "id": "C35Qz8Mu0KTn"
      },
      "source": [
        "Block 2: Web Scraping Data"
      ]
    },
    {
      "cell_type": "code",
      "metadata": {
        "colab": {
          "base_uri": "https://localhost:8080/",
          "height": 314
        },
        "id": "UsqDA6LA0P7r",
        "outputId": "41011214-d91d-4a33-d408-24cb64faea83"
      },
      "source": [
        "url = 'https://en.wikipedia.org/wiki/MonsterVerse'\n",
        "monster_verse = pd.read_html(url)\n",
        "monster_verse = monster_verse[3]\n",
        "monster_verse.head(7)"
      ],
      "execution_count": 2,
      "outputs": [
        {
          "output_type": "execute_result",
          "data": {
            "text/html": [
              "<div>\n",
              "<style scoped>\n",
              "    .dataframe tbody tr th:only-of-type {\n",
              "        vertical-align: middle;\n",
              "    }\n",
              "\n",
              "    .dataframe tbody tr th {\n",
              "        vertical-align: top;\n",
              "    }\n",
              "\n",
              "    .dataframe thead tr th {\n",
              "        text-align: left;\n",
              "    }\n",
              "</style>\n",
              "<table border=\"1\" class=\"dataframe\">\n",
              "  <thead>\n",
              "    <tr>\n",
              "      <th></th>\n",
              "      <th>Character</th>\n",
              "      <th colspan=\"4\" halign=\"left\">Films</th>\n",
              "    </tr>\n",
              "    <tr>\n",
              "      <th></th>\n",
              "      <th>Character</th>\n",
              "      <th>Godzilla</th>\n",
              "      <th>Kong:Skull Island</th>\n",
              "      <th>Godzilla:King of the Monsters</th>\n",
              "      <th>Godzilla vs. Kong</th>\n",
              "    </tr>\n",
              "    <tr>\n",
              "      <th></th>\n",
              "      <th>Monsters</th>\n",
              "      <th>Monsters</th>\n",
              "      <th>Monsters</th>\n",
              "      <th>Monsters</th>\n",
              "      <th>Monsters</th>\n",
              "    </tr>\n",
              "  </thead>\n",
              "  <tbody>\n",
              "    <tr>\n",
              "      <th>0</th>\n",
              "      <td>Godzilla</td>\n",
              "      <td>T.J. StormS</td>\n",
              "      <td>Pictured with archive audio</td>\n",
              "      <td>T.J. StormS</td>\n",
              "      <td>CGI</td>\n",
              "    </tr>\n",
              "    <tr>\n",
              "      <th>1</th>\n",
              "      <td>MUTO</td>\n",
              "      <td>Matt CrossSLee RossS</td>\n",
              "      <td>NaN</td>\n",
              "      <td>CGI</td>\n",
              "      <td>Archive footage</td>\n",
              "    </tr>\n",
              "    <tr>\n",
              "      <th>2</th>\n",
              "      <td>King Kong</td>\n",
              "      <td>NaN</td>\n",
              "      <td>Terry NotarySToby KebbellS</td>\n",
              "      <td>Archive footage</td>\n",
              "      <td>Eric PeteyS[57]</td>\n",
              "    </tr>\n",
              "    <tr>\n",
              "      <th>3</th>\n",
              "      <td>King Ghidorah</td>\n",
              "      <td>NaN</td>\n",
              "      <td>Pictured</td>\n",
              "      <td>Jason LilesSAlan MaxsonSRichard DortonS</td>\n",
              "      <td>Archive footage</td>\n",
              "    </tr>\n",
              "    <tr>\n",
              "      <th>4</th>\n",
              "      <td>Rodan</td>\n",
              "      <td>NaN</td>\n",
              "      <td>Pictured</td>\n",
              "      <td>Jason LilesS</td>\n",
              "      <td>Archive footage</td>\n",
              "    </tr>\n",
              "    <tr>\n",
              "      <th>5</th>\n",
              "      <td>Humans</td>\n",
              "      <td>Humans</td>\n",
              "      <td>Humans</td>\n",
              "      <td>Humans</td>\n",
              "      <td>Humans</td>\n",
              "    </tr>\n",
              "    <tr>\n",
              "      <th>6</th>\n",
              "      <td>Ishiro Serizawa</td>\n",
              "      <td>Ken Watanabe</td>\n",
              "      <td>NaN</td>\n",
              "      <td>Ken Watanabe</td>\n",
              "      <td>NaN</td>\n",
              "    </tr>\n",
              "  </tbody>\n",
              "</table>\n",
              "</div>"
            ],
            "text/plain": [
              "         Character  ...             Films\n",
              "         Character  ... Godzilla vs. Kong\n",
              "          Monsters  ...          Monsters\n",
              "0         Godzilla  ...               CGI\n",
              "1             MUTO  ...   Archive footage\n",
              "2        King Kong  ...   Eric PeteyS[57]\n",
              "3    King Ghidorah  ...   Archive footage\n",
              "4            Rodan  ...   Archive footage\n",
              "5           Humans  ...            Humans\n",
              "6  Ishiro Serizawa  ...               NaN\n",
              "\n",
              "[7 rows x 5 columns]"
            ]
          },
          "metadata": {
            "tags": []
          },
          "execution_count": 2
        }
      ]
    },
    {
      "cell_type": "markdown",
      "metadata": {
        "id": "2b22r5GN0QSj"
      },
      "source": [
        "Block 3: Clean Dataframe\n",
        "* Make the index the different characters instead of 0, 1, 2, 3. That is, it should be Godzilla, MUTO, King Kong,….\n",
        "* Change the column names to just be the names of the movies (e.g., it should just be Godzilla instead of Films, Godzilla, Monsters. Also, change the index name to also just be “character” instead of Character, Character, Monster\n",
        "* Remove the row that has all duplicates (i.e., “human”, “human”, “human”), since that doesn’t seem helpful to us in this dataframe."
      ]
    },
    {
      "cell_type": "code",
      "metadata": {
        "id": "Ty5Dt3UU0dxs",
        "colab": {
          "base_uri": "https://localhost:8080/",
          "height": 284
        },
        "outputId": "e41f2ae5-4e5e-4b51-d3b6-fd9fe8d544ba"
      },
      "source": [
        "# make index the different characters instead of numbers, change index name to be 'character'\n",
        "monster_verse = monster_verse.set_index('Character')\n",
        "\n",
        "# change column names to be names of the movies\n",
        "monster_verse.columns = ['Godzilla', 'Kong: Skull Island', 'Godzilla: King of the Monsters', 'Godzilla vs. Kong']\n",
        "\n",
        "# remove row with all duplicates ('human')\n",
        "monster_verse = monster_verse.drop([monster_verse.index[5]])\n",
        "\n",
        "monster_verse.head(7)"
      ],
      "execution_count": 3,
      "outputs": [
        {
          "output_type": "execute_result",
          "data": {
            "text/html": [
              "<div>\n",
              "<style scoped>\n",
              "    .dataframe tbody tr th:only-of-type {\n",
              "        vertical-align: middle;\n",
              "    }\n",
              "\n",
              "    .dataframe tbody tr th {\n",
              "        vertical-align: top;\n",
              "    }\n",
              "\n",
              "    .dataframe thead th {\n",
              "        text-align: right;\n",
              "    }\n",
              "</style>\n",
              "<table border=\"1\" class=\"dataframe\">\n",
              "  <thead>\n",
              "    <tr style=\"text-align: right;\">\n",
              "      <th></th>\n",
              "      <th>Godzilla</th>\n",
              "      <th>Kong: Skull Island</th>\n",
              "      <th>Godzilla: King of the Monsters</th>\n",
              "      <th>Godzilla vs. Kong</th>\n",
              "    </tr>\n",
              "    <tr>\n",
              "      <th>Character</th>\n",
              "      <th></th>\n",
              "      <th></th>\n",
              "      <th></th>\n",
              "      <th></th>\n",
              "    </tr>\n",
              "  </thead>\n",
              "  <tbody>\n",
              "    <tr>\n",
              "      <th>(Godzilla,)</th>\n",
              "      <td>T.J. StormS</td>\n",
              "      <td>Pictured with archive audio</td>\n",
              "      <td>T.J. StormS</td>\n",
              "      <td>CGI</td>\n",
              "    </tr>\n",
              "    <tr>\n",
              "      <th>(MUTO,)</th>\n",
              "      <td>Matt CrossSLee RossS</td>\n",
              "      <td>NaN</td>\n",
              "      <td>CGI</td>\n",
              "      <td>Archive footage</td>\n",
              "    </tr>\n",
              "    <tr>\n",
              "      <th>(King Kong,)</th>\n",
              "      <td>NaN</td>\n",
              "      <td>Terry NotarySToby KebbellS</td>\n",
              "      <td>Archive footage</td>\n",
              "      <td>Eric PeteyS[57]</td>\n",
              "    </tr>\n",
              "    <tr>\n",
              "      <th>(King Ghidorah,)</th>\n",
              "      <td>NaN</td>\n",
              "      <td>Pictured</td>\n",
              "      <td>Jason LilesSAlan MaxsonSRichard DortonS</td>\n",
              "      <td>Archive footage</td>\n",
              "    </tr>\n",
              "    <tr>\n",
              "      <th>(Rodan,)</th>\n",
              "      <td>NaN</td>\n",
              "      <td>Pictured</td>\n",
              "      <td>Jason LilesS</td>\n",
              "      <td>Archive footage</td>\n",
              "    </tr>\n",
              "    <tr>\n",
              "      <th>(Ishiro Serizawa,)</th>\n",
              "      <td>Ken Watanabe</td>\n",
              "      <td>NaN</td>\n",
              "      <td>Ken Watanabe</td>\n",
              "      <td>NaN</td>\n",
              "    </tr>\n",
              "    <tr>\n",
              "      <th>(Vivienne Graham,)</th>\n",
              "      <td>Sally Hawkins</td>\n",
              "      <td>NaN</td>\n",
              "      <td>Sally Hawkins</td>\n",
              "      <td>NaN</td>\n",
              "    </tr>\n",
              "  </tbody>\n",
              "</table>\n",
              "</div>"
            ],
            "text/plain": [
              "                                Godzilla  ... Godzilla vs. Kong\n",
              "Character                                 ...                  \n",
              "(Godzilla,)                  T.J. StormS  ...               CGI\n",
              "(MUTO,)             Matt CrossSLee RossS  ...   Archive footage\n",
              "(King Kong,)                         NaN  ...   Eric PeteyS[57]\n",
              "(King Ghidorah,)                     NaN  ...   Archive footage\n",
              "(Rodan,)                             NaN  ...   Archive footage\n",
              "(Ishiro Serizawa,)          Ken Watanabe  ...               NaN\n",
              "(Vivienne Graham,)         Sally Hawkins  ...               NaN\n",
              "\n",
              "[7 rows x 4 columns]"
            ]
          },
          "metadata": {
            "tags": []
          },
          "execution_count": 3
        }
      ]
    },
    {
      "cell_type": "markdown",
      "metadata": {
        "id": "Cw1MDAGu0eIL"
      },
      "source": [
        "Block 4: Save File\n",
        "* save the file as a .csv with the delimiter being tabs"
      ]
    },
    {
      "cell_type": "code",
      "metadata": {
        "id": "kD8-cUR70kmE"
      },
      "source": [
        "monster_verse.to_csv('monster_verse', sep= '\\t')"
      ],
      "execution_count": 4,
      "outputs": []
    }
  ]
}