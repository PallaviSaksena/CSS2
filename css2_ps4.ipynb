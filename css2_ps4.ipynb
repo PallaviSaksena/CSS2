{
  "nbformat": 4,
  "nbformat_minor": 0,
  "metadata": {
    "colab": {
      "name": "Saksena_Pallavi_problem_set_4.ipynb",
      "provenance": [],
      "collapsed_sections": []
    },
    "kernelspec": {
      "name": "python3",
      "display_name": "Python 3"
    },
    "language_info": {
      "name": "python"
    }
  },
  "cells": [
    {
      "cell_type": "markdown",
      "metadata": {
        "id": "WkSOGvYd4Q0r"
      },
      "source": [
        "Block 1: Import Libraries"
      ]
    },
    {
      "cell_type": "code",
      "metadata": {
        "id": "deI27123l3eq"
      },
      "source": [
        "import pandas as pd\n",
        "import numpy as np\n",
        "from bs4 import BeautifulSoup\n",
        "import requests "
      ],
      "execution_count": 6,
      "outputs": []
    },
    {
      "cell_type": "markdown",
      "metadata": {
        "id": "FtZr3VQ84U2V"
      },
      "source": [
        "Block 2: Create Function"
      ]
    },
    {
      "cell_type": "code",
      "metadata": {
        "id": "myPuBVpK4VMs"
      },
      "source": [
        "def info(zipcode):\n",
        "\n",
        "  url = 'https://weather.com/weather/today/l/' + str(zipcode) + ':4:US'\n",
        "  response = requests.get(url)\n",
        "  soup = BeautifulSoup(response.content, 'html.parser')\n",
        "\n",
        "# get city and state\n",
        "\n",
        "  html_h1 = soup.find_all('h1')  # shows <h1 class=\"CurrentConditions--location--1Ayv3\">San Diego, CA Weather</h1>\n",
        "\n",
        "  location = html_h1[0].text.replace(' Weather', '') # html_h1s.text shows 'San Diego, CA Weather', .replace gets rid of 'Weather'\n",
        "  \n",
        "  # split up location into city and state by indexing\n",
        "  # determine the split point by starting from the 0th index and increase until it reaches the comma, then break the loop\n",
        "  split = 0\n",
        "  for a in location:\n",
        "    if a == ',':\n",
        "      break\n",
        "    split += 1\n",
        "    \n",
        "  city = location[0:split] # everything before the split point is the city name\n",
        "  state = location[split + 2:] # split + 2 skips over the comma and space after the city name, so it will start right at the state abbreviation\n",
        "\n",
        "# get weather\n",
        "\n",
        "  all_card = soup.find_all(class_ = 'card')\n",
        "\n",
        "  for i in all_card:\n",
        "    if 'span class=\"CurrentConditions--tempValue--3KcTQ\" data-testid=\"TemperatureValue\"' in str(i):\n",
        "      info = i.text # gets the text from the tag containing the above words, which includes the temperature value\n",
        "  \n",
        "  # similar method as above but to get just the temperature from the text\n",
        "  # the split point starts at the 0th index and increases until it reaches the degrees symbol, then break the loop\n",
        "  split = 0\n",
        "  for j in info:\n",
        "    if j == '°':\n",
        "      break\n",
        "    split += 1\n",
        "\n",
        "  # the temperature is usually in 2 digits, so the numbers will start 2 indexes before the split point\n",
        "  # the degree symbol is the split point, so add 1 more to have it included in the output\n",
        "  weather = info[split - 2:split + 1]\n",
        "\n",
        "  return city, state, weather, zipcode"
      ],
      "execution_count": 22,
      "outputs": []
    },
    {
      "cell_type": "markdown",
      "metadata": {
        "id": "bEMzw0yY4RHv"
      },
      "source": [
        "Block 3: Pass Zip Code Into Function"
      ]
    },
    {
      "cell_type": "code",
      "metadata": {
        "id": "UgabSenp4Xds",
        "colab": {
          "base_uri": "https://localhost:8080/"
        },
        "outputId": "23c420e2-a220-4bfe-914e-5ac4794af6fd"
      },
      "source": [
        "info(92122)"
      ],
      "execution_count": 23,
      "outputs": [
        {
          "output_type": "execute_result",
          "data": {
            "text/plain": [
              "('San Diego', 'CA', '57°', 92122)"
            ]
          },
          "metadata": {
            "tags": []
          },
          "execution_count": 23
        }
      ]
    }
  ]
}