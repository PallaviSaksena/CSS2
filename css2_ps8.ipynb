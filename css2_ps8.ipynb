{
  "nbformat": 4,
  "nbformat_minor": 0,
  "metadata": {
    "colab": {
      "name": "Saksena_Pallavi_problem_set_8.ipynb",
      "provenance": [],
      "collapsed_sections": []
    },
    "kernelspec": {
      "name": "python3",
      "display_name": "Python 3"
    },
    "language_info": {
      "name": "python"
    }
  },
  "cells": [
    {
      "cell_type": "markdown",
      "metadata": {
        "id": "QU_5-JPYveGs"
      },
      "source": [
        "Block 1: Import libraries"
      ]
    },
    {
      "cell_type": "code",
      "metadata": {
        "id": "uK8U-x_qvU8K"
      },
      "source": [
        "import seaborn as sns\n",
        "import matplotlib.pyplot as plt\n",
        "import numpy as np\n",
        "import pandas as pd\n",
        "from sklearn import tree\n",
        "from sklearn.model_selection import train_test_split\n",
        "from sklearn import metrics"
      ],
      "execution_count": 6,
      "outputs": []
    },
    {
      "cell_type": "markdown",
      "metadata": {
        "id": "6Om19BSCvgVX"
      },
      "source": [
        "Block 2: Function\n",
        "\n",
        "* Have an input argument into the function that determines whether you want plots or not\n",
        "* If you do want a figure, it should be a subplot (2,1) that shows a box plot of (y , X) and the ROC curve. Make sure the plots are labeled and legible so that you can show Pat the plots"
      ]
    },
    {
      "cell_type": "code",
      "metadata": {
        "id": "mLy9AaED_ZCp"
      },
      "source": [
        "def survival(X, y, plot):\n",
        "  \n",
        "  # decision tree binary classification with train and test split\n",
        "\n",
        "  Xtrain, Xtest, ytrain, ytest = train_test_split(X, y, random_state=1)\n",
        "\n",
        "  tree_model = tree.DecisionTreeClassifier(max_depth=1)\n",
        "  tree_model.fit(Xtrain, ytrain)\n",
        "\n",
        "  training_score = tree_model.score(Xtrain, ytrain)\n",
        "  testing_score = tree_model.score(Xtest, ytest)\n",
        "\n",
        "  X = titanic['pclass']\n",
        "  if plot == 'yes':\n",
        "    fig, axes = plt.subplots(2, 1)\n",
        "    sns.boxplot(y, X, ax=axes[0])\n",
        "    ypred = np.where(tree_model.predict(Xtest), 1, 0)\n",
        "    fpr_tree,tpr_tree,thresholds_tree = metrics.roc_curve(ytest, ypred, pos_label=1)\n",
        "    print(fpr_tree)\n",
        "    print(tpr_tree)\n",
        "    axes[1].plot(fpr_tree,tpr_tree,label='tree')\n",
        "    axes[1].plot([0,1],[0,1],color=[0,0,0],linestyle=':', label='chance')\n",
        "    axes[1].set_xlabel('false positive rate')\n",
        "    axes[1].set_ylabel('true positive rate')\n",
        "    axes[1].legend()\n",
        "    fig.tight_layout()\n",
        "\n",
        "  return training_score, testing_score"
      ],
      "execution_count": 7,
      "outputs": []
    },
    {
      "cell_type": "markdown",
      "metadata": {
        "id": "oiQxXZhYvhIY"
      },
      "source": [
        "Block 3: Load data"
      ]
    },
    {
      "cell_type": "code",
      "metadata": {
        "colab": {
          "base_uri": "https://localhost:8080/",
          "height": 195
        },
        "id": "8IYwbREGVO-1",
        "outputId": "1b4c6cea-ba60-4e60-c40a-d48ed49ed768"
      },
      "source": [
        "titanic = sns.load_dataset('titanic')\n",
        "titanic.head()"
      ],
      "execution_count": 12,
      "outputs": [
        {
          "output_type": "execute_result",
          "data": {
            "text/html": [
              "<div>\n",
              "<style scoped>\n",
              "    .dataframe tbody tr th:only-of-type {\n",
              "        vertical-align: middle;\n",
              "    }\n",
              "\n",
              "    .dataframe tbody tr th {\n",
              "        vertical-align: top;\n",
              "    }\n",
              "\n",
              "    .dataframe thead th {\n",
              "        text-align: right;\n",
              "    }\n",
              "</style>\n",
              "<table border=\"1\" class=\"dataframe\">\n",
              "  <thead>\n",
              "    <tr style=\"text-align: right;\">\n",
              "      <th></th>\n",
              "      <th>survived</th>\n",
              "      <th>pclass</th>\n",
              "      <th>sex</th>\n",
              "      <th>age</th>\n",
              "      <th>sibsp</th>\n",
              "      <th>parch</th>\n",
              "      <th>fare</th>\n",
              "      <th>embarked</th>\n",
              "      <th>class</th>\n",
              "      <th>who</th>\n",
              "      <th>adult_male</th>\n",
              "      <th>deck</th>\n",
              "      <th>embark_town</th>\n",
              "      <th>alive</th>\n",
              "      <th>alone</th>\n",
              "    </tr>\n",
              "  </thead>\n",
              "  <tbody>\n",
              "    <tr>\n",
              "      <th>0</th>\n",
              "      <td>0</td>\n",
              "      <td>3</td>\n",
              "      <td>male</td>\n",
              "      <td>22.0</td>\n",
              "      <td>1</td>\n",
              "      <td>0</td>\n",
              "      <td>7.2500</td>\n",
              "      <td>S</td>\n",
              "      <td>Third</td>\n",
              "      <td>man</td>\n",
              "      <td>True</td>\n",
              "      <td>NaN</td>\n",
              "      <td>Southampton</td>\n",
              "      <td>no</td>\n",
              "      <td>False</td>\n",
              "    </tr>\n",
              "    <tr>\n",
              "      <th>1</th>\n",
              "      <td>1</td>\n",
              "      <td>1</td>\n",
              "      <td>female</td>\n",
              "      <td>38.0</td>\n",
              "      <td>1</td>\n",
              "      <td>0</td>\n",
              "      <td>71.2833</td>\n",
              "      <td>C</td>\n",
              "      <td>First</td>\n",
              "      <td>woman</td>\n",
              "      <td>False</td>\n",
              "      <td>C</td>\n",
              "      <td>Cherbourg</td>\n",
              "      <td>yes</td>\n",
              "      <td>False</td>\n",
              "    </tr>\n",
              "    <tr>\n",
              "      <th>2</th>\n",
              "      <td>1</td>\n",
              "      <td>3</td>\n",
              "      <td>female</td>\n",
              "      <td>26.0</td>\n",
              "      <td>0</td>\n",
              "      <td>0</td>\n",
              "      <td>7.9250</td>\n",
              "      <td>S</td>\n",
              "      <td>Third</td>\n",
              "      <td>woman</td>\n",
              "      <td>False</td>\n",
              "      <td>NaN</td>\n",
              "      <td>Southampton</td>\n",
              "      <td>yes</td>\n",
              "      <td>True</td>\n",
              "    </tr>\n",
              "    <tr>\n",
              "      <th>3</th>\n",
              "      <td>1</td>\n",
              "      <td>1</td>\n",
              "      <td>female</td>\n",
              "      <td>35.0</td>\n",
              "      <td>1</td>\n",
              "      <td>0</td>\n",
              "      <td>53.1000</td>\n",
              "      <td>S</td>\n",
              "      <td>First</td>\n",
              "      <td>woman</td>\n",
              "      <td>False</td>\n",
              "      <td>C</td>\n",
              "      <td>Southampton</td>\n",
              "      <td>yes</td>\n",
              "      <td>False</td>\n",
              "    </tr>\n",
              "    <tr>\n",
              "      <th>4</th>\n",
              "      <td>0</td>\n",
              "      <td>3</td>\n",
              "      <td>male</td>\n",
              "      <td>35.0</td>\n",
              "      <td>0</td>\n",
              "      <td>0</td>\n",
              "      <td>8.0500</td>\n",
              "      <td>S</td>\n",
              "      <td>Third</td>\n",
              "      <td>man</td>\n",
              "      <td>True</td>\n",
              "      <td>NaN</td>\n",
              "      <td>Southampton</td>\n",
              "      <td>no</td>\n",
              "      <td>True</td>\n",
              "    </tr>\n",
              "  </tbody>\n",
              "</table>\n",
              "</div>"
            ],
            "text/plain": [
              "   survived  pclass     sex   age  ...  deck  embark_town  alive  alone\n",
              "0         0       3    male  22.0  ...   NaN  Southampton     no  False\n",
              "1         1       1  female  38.0  ...     C    Cherbourg    yes  False\n",
              "2         1       3  female  26.0  ...   NaN  Southampton    yes   True\n",
              "3         1       1  female  35.0  ...     C  Southampton    yes  False\n",
              "4         0       3    male  35.0  ...   NaN  Southampton     no   True\n",
              "\n",
              "[5 rows x 15 columns]"
            ]
          },
          "metadata": {
            "tags": []
          },
          "execution_count": 12
        }
      ]
    },
    {
      "cell_type": "markdown",
      "metadata": {
        "id": "V9M8U0L1bVkF"
      },
      "source": [
        "Block 4: Use function with pclass"
      ]
    },
    {
      "cell_type": "code",
      "metadata": {
        "colab": {
          "base_uri": "https://localhost:8080/"
        },
        "id": "JF50eL-4QGQF",
        "outputId": "ef1a327a-e630-4882-952b-e2d61947b175"
      },
      "source": [
        "survival(titanic[['pclass']], titanic['alive'], 'no')"
      ],
      "execution_count": 13,
      "outputs": [
        {
          "output_type": "execute_result",
          "data": {
            "text/plain": [
              "(0.6751497005988024, 0.6457399103139013)"
            ]
          },
          "metadata": {
            "tags": []
          },
          "execution_count": 13
        }
      ]
    },
    {
      "cell_type": "markdown",
      "metadata": {
        "id": "oyYh0Anobdmu"
      },
      "source": [
        "Block 5: Use function with fare"
      ]
    },
    {
      "cell_type": "code",
      "metadata": {
        "colab": {
          "base_uri": "https://localhost:8080/"
        },
        "id": "1m2D1WSTZKWE",
        "outputId": "0330ac4d-f74d-42cc-9aa6-b0c3a3c2e19c"
      },
      "source": [
        "survival(titanic[['fare']], titanic['alive'], 'no')"
      ],
      "execution_count": 10,
      "outputs": [
        {
          "output_type": "execute_result",
          "data": {
            "text/plain": [
              "(0.6302395209580839, 0.5739910313901345)"
            ]
          },
          "metadata": {
            "tags": []
          },
          "execution_count": 10
        }
      ]
    },
    {
      "cell_type": "markdown",
      "metadata": {
        "id": "0YwtTYmqbvXD"
      },
      "source": [
        "The testing score for pclass is 0.64, which is higher than the testing score for fare at 0.57.\n",
        "\n",
        "Pclass is a better predictor of survival, so Pat should focus on being in a better class."
      ]
    }
  ]
}