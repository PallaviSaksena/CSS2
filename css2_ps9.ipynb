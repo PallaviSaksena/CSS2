{
  "nbformat": 4,
  "nbformat_minor": 0,
  "metadata": {
    "colab": {
      "name": "Saksena_Pallavi_problem_set_9.ipynb",
      "provenance": [],
      "collapsed_sections": []
    },
    "kernelspec": {
      "name": "python3",
      "display_name": "Python 3"
    },
    "language_info": {
      "name": "python"
    }
  },
  "cells": [
    {
      "cell_type": "markdown",
      "metadata": {
        "id": "0DJ7R9w23_iA"
      },
      "source": [
        "Block 1: Import libraries and dataset"
      ]
    },
    {
      "cell_type": "code",
      "metadata": {
        "colab": {
          "base_uri": "https://localhost:8080/",
          "height": 402
        },
        "id": "UTLBnb2n38yQ",
        "outputId": "3ea2a6ae-a09d-4daf-b59d-ddbed7cda77a"
      },
      "source": [
        "import seaborn as sns\n",
        "import pandas as pd\n",
        "import numpy as np\n",
        "import matplotlib.pyplot as plt\n",
        "from sklearn.linear_model import LinearRegression\n",
        "\n",
        "data = sns.load_dataset('geyser')\n",
        "data"
      ],
      "execution_count": 1,
      "outputs": [
        {
          "output_type": "execute_result",
          "data": {
            "text/html": [
              "<div>\n",
              "<style scoped>\n",
              "    .dataframe tbody tr th:only-of-type {\n",
              "        vertical-align: middle;\n",
              "    }\n",
              "\n",
              "    .dataframe tbody tr th {\n",
              "        vertical-align: top;\n",
              "    }\n",
              "\n",
              "    .dataframe thead th {\n",
              "        text-align: right;\n",
              "    }\n",
              "</style>\n",
              "<table border=\"1\" class=\"dataframe\">\n",
              "  <thead>\n",
              "    <tr style=\"text-align: right;\">\n",
              "      <th></th>\n",
              "      <th>duration</th>\n",
              "      <th>waiting</th>\n",
              "      <th>kind</th>\n",
              "    </tr>\n",
              "  </thead>\n",
              "  <tbody>\n",
              "    <tr>\n",
              "      <th>0</th>\n",
              "      <td>3.600</td>\n",
              "      <td>79</td>\n",
              "      <td>long</td>\n",
              "    </tr>\n",
              "    <tr>\n",
              "      <th>1</th>\n",
              "      <td>1.800</td>\n",
              "      <td>54</td>\n",
              "      <td>short</td>\n",
              "    </tr>\n",
              "    <tr>\n",
              "      <th>2</th>\n",
              "      <td>3.333</td>\n",
              "      <td>74</td>\n",
              "      <td>long</td>\n",
              "    </tr>\n",
              "    <tr>\n",
              "      <th>3</th>\n",
              "      <td>2.283</td>\n",
              "      <td>62</td>\n",
              "      <td>short</td>\n",
              "    </tr>\n",
              "    <tr>\n",
              "      <th>4</th>\n",
              "      <td>4.533</td>\n",
              "      <td>85</td>\n",
              "      <td>long</td>\n",
              "    </tr>\n",
              "    <tr>\n",
              "      <th>...</th>\n",
              "      <td>...</td>\n",
              "      <td>...</td>\n",
              "      <td>...</td>\n",
              "    </tr>\n",
              "    <tr>\n",
              "      <th>267</th>\n",
              "      <td>4.117</td>\n",
              "      <td>81</td>\n",
              "      <td>long</td>\n",
              "    </tr>\n",
              "    <tr>\n",
              "      <th>268</th>\n",
              "      <td>2.150</td>\n",
              "      <td>46</td>\n",
              "      <td>short</td>\n",
              "    </tr>\n",
              "    <tr>\n",
              "      <th>269</th>\n",
              "      <td>4.417</td>\n",
              "      <td>90</td>\n",
              "      <td>long</td>\n",
              "    </tr>\n",
              "    <tr>\n",
              "      <th>270</th>\n",
              "      <td>1.817</td>\n",
              "      <td>46</td>\n",
              "      <td>short</td>\n",
              "    </tr>\n",
              "    <tr>\n",
              "      <th>271</th>\n",
              "      <td>4.467</td>\n",
              "      <td>74</td>\n",
              "      <td>long</td>\n",
              "    </tr>\n",
              "  </tbody>\n",
              "</table>\n",
              "<p>272 rows × 3 columns</p>\n",
              "</div>"
            ],
            "text/plain": [
              "     duration  waiting   kind\n",
              "0       3.600       79   long\n",
              "1       1.800       54  short\n",
              "2       3.333       74   long\n",
              "3       2.283       62  short\n",
              "4       4.533       85   long\n",
              "..        ...      ...    ...\n",
              "267     4.117       81   long\n",
              "268     2.150       46  short\n",
              "269     4.417       90   long\n",
              "270     1.817       46  short\n",
              "271     4.467       74   long\n",
              "\n",
              "[272 rows x 3 columns]"
            ]
          },
          "metadata": {
            "tags": []
          },
          "execution_count": 1
        }
      ]
    },
    {
      "cell_type": "markdown",
      "metadata": {
        "id": "Y-pd47KX4l81"
      },
      "source": [
        "Block 2: Create your own k-fold cross validation code with the number of folds being 10.\n",
        "\n",
        "1. The raw data needs to be split into training and testing.\n",
        "2. The number of folds is the number of times you should go through a for loop.\n",
        "3. Inside of the for loop, index into your raw data to pull out training and testing data based on the fold (think about how the folds are organized and how much data is in each fold, which is based on the total number of folds)\n",
        "4. Now, you can do the normal linear regression model fitting that we did a couple weeks ago\n",
        "5. Keep track of the R^2 scores of the folds"
      ]
    },
    {
      "cell_type": "code",
      "metadata": {
        "id": "4dX1GlJnumtk"
      },
      "source": [
        "# shuffle and split data into 10 randomized folds\n",
        "\n",
        "fold_indices = np.arange(data.shape[0])\n",
        "np.random.shuffle(fold_indices)\n",
        "test_indices = np.array_split(fold_indices, 10)\n",
        "\n",
        "# define predictor and y variables - makes it easier to have correct shape for X\n",
        "\n",
        "X = np.array(data[['duration']])\n",
        "y = np.array(data['waiting'])\n",
        "\n",
        "# create training and testing sets\n",
        "for i in test_indices:\n",
        "\n",
        "  # keep one set separate so it won't be added into training set\n",
        "  mask_eval = np.ones(data.shape[0], bool)\n",
        "  mask_eval[i] = False\n",
        "\n",
        "  # training set\n",
        "  train_set = data[mask_eval]\n",
        "  train_set_X = train_set[['duration']]\n",
        "  train_set_y = train_set['waiting']\n",
        "\n",
        "  # testing set\n",
        "  test_set = data.index[i]\n",
        "  test_set_X = X[test_set]\n",
        "  test_set_y = y[test_set]\n",
        "  \n",
        "  # make linear regression model\n",
        "  model = LinearRegression()\n",
        "  model.fit(train_set_X, train_set_y)\n",
        "\n",
        "  # get r^2 values for training and testing sets\n",
        "  training_r2 = model.score(train_set_X, train_set_y)\n",
        "  testing_r2 = model.score(test_set_X, test_set_y)"
      ],
      "execution_count": 4,
      "outputs": []
    },
    {
      "cell_type": "markdown",
      "metadata": {
        "id": "Ix--rkOT4oVw"
      },
      "source": [
        "Block 3: Print the average and standard deviation of the R^2 value for the different folds"
      ]
    },
    {
      "cell_type": "code",
      "metadata": {
        "id": "nC7Fsi5g5Frn",
        "colab": {
          "base_uri": "https://localhost:8080/"
        },
        "outputId": "feff795e-b2dd-454d-84ff-f7412444360a"
      },
      "source": [
        "print('------------ 3a ------------')\n",
        "print('training r^2 mean:', training_r2.mean())\n",
        "print('training r^2 std:', training_r2.std())\n",
        "\n",
        "print('------------ 3b ------------')\n",
        "print('testing r^2 mean:', testing_r2.mean())\n",
        "print('testing r^2 std:', testing_r2.std())"
      ],
      "execution_count": 5,
      "outputs": [
        {
          "output_type": "stream",
          "text": [
            "------------ 3a ------------\n",
            "training r^2 mean: 0.8063189754080746\n",
            "training r^2 std: 0.0\n",
            "------------ 3b ------------\n",
            "testing r^2 mean: 0.8529428408907155\n",
            "testing r^2 std: 0.0\n"
          ],
          "name": "stdout"
        }
      ]
    },
    {
      "cell_type": "markdown",
      "metadata": {
        "id": "3uA82t7m5FD7"
      },
      "source": [
        "Block 4: Interpret this result\n",
        "\n",
        "Duration of an eruption is a good indicator for predicting waiting time until the next eruption, since the r^2 values of both the training and testing data are high."
      ]
    }
  ]
}