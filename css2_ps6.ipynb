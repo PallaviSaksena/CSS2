{
  "nbformat": 4,
  "nbformat_minor": 0,
  "metadata": {
    "colab": {
      "name": "Saksena_Pallavi_problem_set_6.ipynb",
      "provenance": [],
      "collapsed_sections": []
    },
    "kernelspec": {
      "name": "python3",
      "display_name": "Python 3"
    },
    "language_info": {
      "name": "python"
    }
  },
  "cells": [
    {
      "cell_type": "markdown",
      "metadata": {
        "id": "_G8MFY3GteEw"
      },
      "source": [
        "Block 1: Import libraries and create variables"
      ]
    },
    {
      "cell_type": "code",
      "metadata": {
        "id": "viiaenWDtaCK",
        "colab": {
          "base_uri": "https://localhost:8080/",
          "height": 195
        },
        "outputId": "9e9d0c33-56a8-48b0-de1d-adcfa397294f"
      },
      "source": [
        "import pandas as pd\n",
        "from sklearn.datasets import load_diabetes\n",
        "\n",
        "diabetes = load_diabetes()\n",
        "X = pd.DataFrame(diabetes.data,columns=diabetes.feature_names)\n",
        "y = diabetes.target\n",
        "\n",
        "X.head()"
      ],
      "execution_count": 1,
      "outputs": [
        {
          "output_type": "execute_result",
          "data": {
            "text/html": [
              "<div>\n",
              "<style scoped>\n",
              "    .dataframe tbody tr th:only-of-type {\n",
              "        vertical-align: middle;\n",
              "    }\n",
              "\n",
              "    .dataframe tbody tr th {\n",
              "        vertical-align: top;\n",
              "    }\n",
              "\n",
              "    .dataframe thead th {\n",
              "        text-align: right;\n",
              "    }\n",
              "</style>\n",
              "<table border=\"1\" class=\"dataframe\">\n",
              "  <thead>\n",
              "    <tr style=\"text-align: right;\">\n",
              "      <th></th>\n",
              "      <th>age</th>\n",
              "      <th>sex</th>\n",
              "      <th>bmi</th>\n",
              "      <th>bp</th>\n",
              "      <th>s1</th>\n",
              "      <th>s2</th>\n",
              "      <th>s3</th>\n",
              "      <th>s4</th>\n",
              "      <th>s5</th>\n",
              "      <th>s6</th>\n",
              "    </tr>\n",
              "  </thead>\n",
              "  <tbody>\n",
              "    <tr>\n",
              "      <th>0</th>\n",
              "      <td>0.038076</td>\n",
              "      <td>0.050680</td>\n",
              "      <td>0.061696</td>\n",
              "      <td>0.021872</td>\n",
              "      <td>-0.044223</td>\n",
              "      <td>-0.034821</td>\n",
              "      <td>-0.043401</td>\n",
              "      <td>-0.002592</td>\n",
              "      <td>0.019908</td>\n",
              "      <td>-0.017646</td>\n",
              "    </tr>\n",
              "    <tr>\n",
              "      <th>1</th>\n",
              "      <td>-0.001882</td>\n",
              "      <td>-0.044642</td>\n",
              "      <td>-0.051474</td>\n",
              "      <td>-0.026328</td>\n",
              "      <td>-0.008449</td>\n",
              "      <td>-0.019163</td>\n",
              "      <td>0.074412</td>\n",
              "      <td>-0.039493</td>\n",
              "      <td>-0.068330</td>\n",
              "      <td>-0.092204</td>\n",
              "    </tr>\n",
              "    <tr>\n",
              "      <th>2</th>\n",
              "      <td>0.085299</td>\n",
              "      <td>0.050680</td>\n",
              "      <td>0.044451</td>\n",
              "      <td>-0.005671</td>\n",
              "      <td>-0.045599</td>\n",
              "      <td>-0.034194</td>\n",
              "      <td>-0.032356</td>\n",
              "      <td>-0.002592</td>\n",
              "      <td>0.002864</td>\n",
              "      <td>-0.025930</td>\n",
              "    </tr>\n",
              "    <tr>\n",
              "      <th>3</th>\n",
              "      <td>-0.089063</td>\n",
              "      <td>-0.044642</td>\n",
              "      <td>-0.011595</td>\n",
              "      <td>-0.036656</td>\n",
              "      <td>0.012191</td>\n",
              "      <td>0.024991</td>\n",
              "      <td>-0.036038</td>\n",
              "      <td>0.034309</td>\n",
              "      <td>0.022692</td>\n",
              "      <td>-0.009362</td>\n",
              "    </tr>\n",
              "    <tr>\n",
              "      <th>4</th>\n",
              "      <td>0.005383</td>\n",
              "      <td>-0.044642</td>\n",
              "      <td>-0.036385</td>\n",
              "      <td>0.021872</td>\n",
              "      <td>0.003935</td>\n",
              "      <td>0.015596</td>\n",
              "      <td>0.008142</td>\n",
              "      <td>-0.002592</td>\n",
              "      <td>-0.031991</td>\n",
              "      <td>-0.046641</td>\n",
              "    </tr>\n",
              "  </tbody>\n",
              "</table>\n",
              "</div>"
            ],
            "text/plain": [
              "        age       sex       bmi  ...        s4        s5        s6\n",
              "0  0.038076  0.050680  0.061696  ... -0.002592  0.019908 -0.017646\n",
              "1 -0.001882 -0.044642 -0.051474  ... -0.039493 -0.068330 -0.092204\n",
              "2  0.085299  0.050680  0.044451  ... -0.002592  0.002864 -0.025930\n",
              "3 -0.089063 -0.044642 -0.011595  ...  0.034309  0.022692 -0.009362\n",
              "4  0.005383 -0.044642 -0.036385  ... -0.002592 -0.031991 -0.046641\n",
              "\n",
              "[5 rows x 10 columns]"
            ]
          },
          "metadata": {
            "tags": []
          },
          "execution_count": 1
        }
      ]
    },
    {
      "cell_type": "markdown",
      "metadata": {
        "id": "39xLsgF8tzIp"
      },
      "source": [
        "Block 2: Import other necessary libraries"
      ]
    },
    {
      "cell_type": "code",
      "metadata": {
        "id": "NouBdMWEt0O7"
      },
      "source": [
        "import numpy as np\n",
        "import matplotlib.pyplot as plt\n",
        "import seaborn as sns\n",
        "from sklearn.linear_model import LinearRegression\n",
        "from sklearn.model_selection import train_test_split"
      ],
      "execution_count": 2,
      "outputs": []
    },
    {
      "cell_type": "markdown",
      "metadata": {
        "id": "K1jOgqV5t0gI"
      },
      "source": [
        "Block 3: Create a function that:\n",
        " \n",
        "A. Takes X and y as in the input\n",
        "\n",
        "B. Split the X and y into train and test using train_test_split from sklearn\n",
        "\n",
        "C. Fit a linear regression model to the training X and training y data\n",
        "\n",
        "D. Get the predicted y data for X test from the model\n",
        "\n",
        "E. Output (at least) the model fit (i.e., R^2 score = coefficient of determination)"
      ]
    },
    {
      "cell_type": "code",
      "metadata": {
        "id": "6b97LY7tt7nU"
      },
      "source": [
        "def lin_reg(X, y):\n",
        "  '''\n",
        "  Will split X and y into train and test\n",
        "\n",
        "  Will fit a linear regression model to the data\n",
        "\n",
        "  Will get predicted y data for X test from the model\n",
        "\n",
        "  Returns the model fit\n",
        "  '''\n",
        "  # split into train and test\n",
        "  X_train, X_test, y_train, y_test = train_test_split(X, y, random_state = 1)\n",
        "\n",
        "  # fit linear regression model to data\n",
        "  model = LinearRegression()\n",
        "  model.fit(X_train, y_train)\n",
        "\n",
        "  print('training r^2:', model.score(X_train, y_train))\n",
        "  print('testing r^2:', model.score(X_test, y_test))\n",
        "  print('y = ', np.round(model.coef_[0], 3), '*x + ', np.round(model.intercept_, 3))\n",
        "\n",
        "  # predict y data for X test\n",
        "  y_plot = model.predict(X_test)\n",
        "\n",
        "  sns.scatterplot(x = X_test[X_test.columns[0]], y = y_test)\n",
        "  sns.lineplot(x = X_test[X_test.columns[0]], y = y_plot, color= 'r')"
      ],
      "execution_count": 3,
      "outputs": []
    },
    {
      "cell_type": "markdown",
      "metadata": {
        "id": "KXEXkFLpt_hA"
      },
      "source": [
        "Block 4: Show that this function works (i.e., try it with some of the data)"
      ]
    },
    {
      "cell_type": "code",
      "metadata": {
        "id": "2Qgnn0WQuClL",
        "colab": {
          "base_uri": "https://localhost:8080/",
          "height": 332
        },
        "outputId": "69ddaf32-f83a-468e-fbf8-c37715d2167f"
      },
      "source": [
        "lin_reg(X[['age']], X['s6'])"
      ],
      "execution_count": 4,
      "outputs": [
        {
          "output_type": "stream",
          "text": [
            "training r^2: 0.07708368099886165\n",
            "testing r^2: 0.09857294273609096\n",
            "y =  0.284 *x +  0.002\n"
          ],
          "name": "stdout"
        },
        {
          "output_type": "display_data",
          "data": {
            "image/png": "[encoded data removed]",
            "text/plain": [
              "<Figure size 432x288 with 1 Axes>"
            ]
          },
          "metadata": {
            "tags": [],
            "needs_background": "light"
          }
        }
      ]
    },
    {
      "cell_type": "markdown",
      "metadata": {
        "id": "iD1gyXpbuC8p"
      },
      "source": [
        "Block 5: Then, using the function, find the best single feature (i.e., column) in X that best predicts y"
      ]
    },
    {
      "cell_type": "code",
      "metadata": {
        "id": "u7giRKUTuFIK",
        "colab": {
          "base_uri": "https://localhost:8080/",
          "height": 332
        },
        "outputId": "71fff690-b376-4948-8f22-aa4d430b65cf"
      },
      "source": [
        "lin_reg(X[['s1']], X['s2'])"
      ],
      "execution_count": 5,
      "outputs": [
        {
          "output_type": "stream",
          "text": [
            "training r^2: 0.8141295814000783\n",
            "testing r^2: 0.7730603331077047\n",
            "y =  0.887 *x +  -0.0\n"
          ],
          "name": "stdout"
        },
        {
          "output_type": "display_data",
          "data": {
            "image/png": "[encoded data removed]",
            "text/plain": [
              "<Figure size 432x288 with 1 Axes>"
            ]
          },
          "metadata": {
            "tags": [],
            "needs_background": "light"
          }
        }
      ]
    },
    {
      "cell_type": "markdown",
      "metadata": {
        "id": "cw3-K58IuFdS"
      },
      "source": [
        "Block 6: Using object oriented programming, make a figure that has two subplots. On the left, put the training data as a scatterplot (x,y). On the right, the testing data as a scatterplot (x,y). Include the best fitting model line in both plots and include the R^2 value in both plots for the different fits."
      ]
    },
    {
      "cell_type": "code",
      "metadata": {
        "colab": {
          "base_uri": "https://localhost:8080/",
          "height": 297
        },
        "id": "YqKx0oLmmgs4",
        "outputId": "56256ae4-be1a-4184-c7ea-f54ec103a6b1"
      },
      "source": [
        "X_train, X_test, y_train, y_test = train_test_split(X, y, random_state = 1)\n",
        "model = LinearRegression()\n",
        "model.fit(X_train, y_train)\n",
        "\n",
        "fig, axes = plt.subplots(1, 2)\n",
        "\n",
        "axes[0].scatter(X_train['s1'], y_train)\n",
        "axes[1].scatter(X_test['s1'], y_test)\n",
        "\n",
        "axes[0].set_xlabel('x')\n",
        "axes[0].set_ylabel('y')\n",
        "axes[0].set_title('Training Data')\n",
        "axes[0].text(0.01, 20, 'r^2: 0.814')\n",
        "\n",
        "axes[1].set_xlabel('x')\n",
        "axes[1].set_ylabel('y')\n",
        "axes[1].set_title('Testing Data')\n",
        "axes[1].text(0.07, 30, 'r^2: 0.773')\n",
        "\n",
        "plt.tight_layout()"
      ],
      "execution_count": 46,
      "outputs": [
        {
          "output_type": "display_data",
          "data": {
            "image/png": "[encoded data removed]",
            "text/plain": [
              "<Figure size 432x288 with 2 Axes>"
            ]
          },
          "metadata": {
            "tags": [],
            "needs_background": "light"
          }
        }
      ]
    }
  ]
}